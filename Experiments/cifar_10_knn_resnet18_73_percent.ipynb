{
 "cells": [
  {
   "cell_type": "code",
   "execution_count": null,
   "metadata": {},
   "outputs": [],
   "source": [
    "import tensorflow as tf\n",
    "from scipy.spatial.distance import euclidean\n",
    "from tensorflow.keras import datasets, layers, models\n",
    "import numpy as np\n",
    "\n",
    "\n",
    "(train_images, train_labels), (test_images, test_labels) = datasets.cifar10.load_data()\n",
    "\n",
    "\n",
    "train_images = train_images / 255.0\n",
    "test_images = test_images / 255.0\n",
    "\n",
    "\n",
    "def create_resnet18():\n",
    "    model = models.Sequential()\n",
    "    model.add(layers.Conv2D(64, (3, 3), activation='relu', padding='same', input_shape=(32, 32, 3)))\n",
    "    model.add(layers.MaxPooling2D((2, 2)))\n",
    "    model.add(layers.Conv2D(64, (3, 3), activation='relu', padding='same'))\n",
    "    model.add(layers.MaxPooling2D((2, 2)))\n",
    "    model.add(layers.Conv2D(128, (3, 3), activation='relu', padding='same'))\n",
    "    model.add(layers.Conv2D(128, (3, 3), activation='relu', padding='same'))\n",
    "    model.add(layers.MaxPooling2D((2, 2)))\n",
    "    model.add(layers.Conv2D(256, (3, 3), activation='relu', padding='same'))\n",
    "    model.add(layers.Conv2D(256, (3, 3), activation='relu', padding='same'))\n",
    "    model.add(layers.MaxPooling2D((2, 2)))\n",
    "    model.add(layers.Flatten())\n",
    "    model.add(layers.Dense(512, activation='relu'))\n",
    "    model.add(layers.Dense(10, activation='softmax'))\n",
    "    return model\n",
    "\n",
    "\n",
    "model = create_resnet18()\n",
    "\n",
    "\n",
    "model.compile(optimizer='adam',\n",
    "              loss='sparse_categorical_crossentropy',\n",
    "              metrics=['accuracy'])\n",
    "\n",
    "\n",
    "model.fit(train_images, train_labels, epochs=10, batch_size=64, validation_data=(test_images, test_labels))\n",
    "\n",
    "\n",
    "train_embeddings = model.predict(train_images)\n"
   ]
  },
  {
   "cell_type": "code",
   "execution_count": null,
   "metadata": {},
   "outputs": [],
   "source": [
    "test_embeddings = model.predict(test_images)\n",
    "test_embeddings.shape"
   ]
  },
  {
   "cell_type": "code",
   "execution_count": null,
   "metadata": {},
   "outputs": [],
   "source": [
    "resnet_train_data = []\n",
    "for i in range(len(train_embeddings)):\n",
    "  resnet_train_data.append((train_embeddings[i],train_labels[i]))\n",
    "resnet_test_data = []\n",
    "for i in range(len(test_embeddings)):\n",
    "  resnet_test_data.append((test_embeddings[i],test_labels[i]))"
   ]
  },
  {
   "cell_type": "code",
   "execution_count": null,
   "metadata": {},
   "outputs": [],
   "source": [
    "import matplotlib.pyplot as plt\n",
    "def find_knn_and_plot_image(k_value:int =10,train_data=resnet_train_data,test_data=resnet_test_data[0]):\n",
    "    correct = 0\n",
    "    x_test,y_test = test_data\n",
    "    point = np.array(x_test)\n",
    "\n",
    "    distance_with_label_and_index = []\n",
    "\n",
    "    for i,(x_train,y_train) in enumerate(train_data):\n",
    "      train_point = np.array(x_train)\n",
    "      distance_with_label_and_index.append(((y_train,i),np.linalg.norm(point-train_point)))\n",
    "\n",
    "    #sorting based on distance\n",
    "    distance_with_label_and_index_sorted=sorted(distance_with_label_and_index,key=lambda x: x[1])\n",
    "    k_nearest_points = distance_with_label_and_index_sorted[0:k_value]\n",
    "\n",
    "    \n",
    "    #calculating accuracy\n",
    "    fig, axes = plt.subplots(1, k_value, figsize=(15, 3))  # Adjust figsize as needed\n",
    "    for i,((label,index),distance) in enumerate(k_nearest_points):\n",
    "        if(label == y_test):\n",
    "            correct+=1\n",
    "        axes[i].imshow(train_images[index])\n",
    "        axes[i].set_title(f\"Index: {index}\")\n",
    "        axes[i].axis('off')\n",
    "    plt.show()\n",
    "    return correct/(k_value)"
   ]
  },
  {
   "cell_type": "code",
   "execution_count": null,
   "metadata": {},
   "outputs": [],
   "source": [
    "index =91\n",
    "plt.imshow(test_images[index])\n",
    "print(test_labels[index])\n",
    "find_knn_and_plot_image(10,resnet_train_data,resnet_test_data[index])"
   ]
  },
  {
   "cell_type": "code",
   "execution_count": null,
   "metadata": {},
   "outputs": [],
   "source": [
    "def find_knn(k_value:int =10,train_data=resnet_train_data,test_data=resnet_test_data):\n",
    "  results =[]\n",
    "  correct = 0\n",
    "  for idx, (x_test,y_test) in enumerate(tqdm(test_data)):\n",
    "    point = np.array(x_test)\n",
    "\n",
    "    distance_with_label_and_index = []\n",
    "\n",
    "    for i,(x_train,y_train) in enumerate(train_data):\n",
    "      train_point = np.array(x_train)\n",
    "      distance_with_label_and_index.append(((y_train,i),np.linalg.norm(point-train_point)))\n",
    "\n",
    "    #sorting based on distance\n",
    "    distance_with_label_and_index_sorted=sorted(distance_with_label_and_index,key=lambda x: x[1])\n",
    "    k_nearest_points = distance_with_label_and_index_sorted[0:k_value]\n",
    "\n",
    "\n",
    "    #calculating accuracy\n",
    "    results.append([])\n",
    "    for i,((label,index),distance) in enumerate(k_nearest_points):\n",
    "      if(label == y_test):\n",
    "        correct+=1\n",
    "      results[idx].append((label,index))\n",
    "  return results,correct/(k_value*len(test_data))"
   ]
  },
  {
   "cell_type": "code",
   "execution_count": null,
   "metadata": {},
   "outputs": [],
   "source": [
    "results,accuracy = find_knn(10)"
   ]
  },
  {
   "cell_type": "code",
   "execution_count": null,
   "metadata": {},
   "outputs": [],
   "source": [
    "accuracy"
   ]
  }
 ],
 "metadata": {
  "kernelspec": {
   "display_name": "Python 3",
   "language": "python",
   "name": "python3"
  },
  "language_info": {
   "codemirror_mode": {
    "name": "ipython",
    "version": 3
   },
   "file_extension": ".py",
   "mimetype": "text/x-python",
   "name": "python",
   "nbconvert_exporter": "python",
   "pygments_lexer": "ipython3",
   "version": "3.11.4"
  }
 },
 "nbformat": 4,
 "nbformat_minor": 2
}
